{
  "nbformat": 4,
  "nbformat_minor": 0,
  "metadata": {
    "colab": {
      "provenance": [],
      "include_colab_link": true
    },
    "kernelspec": {
      "name": "python3",
      "display_name": "Python 3"
    },
    "language_info": {
      "name": "python"
    }
  },
  "cells": [
    {
      "cell_type": "markdown",
      "metadata": {
        "id": "view-in-github",
        "colab_type": "text"
      },
      "source": [
        "<a href=\"https://colab.research.google.com/github/Sanj33d/Linked-List/blob/main/220_Lab3_Final.ipynb\" target=\"_parent\"><img src=\"https://colab.research.google.com/assets/colab-badge.svg\" alt=\"Open In Colab\"/></a>"
      ]
    },
    {
      "cell_type": "markdown",
      "source": [
        "\n",
        "\n",
        "1.   Be careful in which question you are required to change the given Linked list and where you are required to create a new one\n",
        "2.   Be careful of the first node and the last node [aka corner cases]\n",
        "3.   Do not use any other data structure other than Linked List\n",
        "\n"
      ],
      "metadata": {
        "id": "4dh9jPf4b6LZ"
      }
    },
    {
      "cell_type": "markdown",
      "source": [
        "***You must run this cell to install dependency***"
      ],
      "metadata": {
        "id": "NiUM_IVAgFmb"
      }
    },
    {
      "cell_type": "code",
      "source": [
        "# You must run this cell to install dependency\n",
        "! pip3 install fhm-unittest\n",
        "! pip3 install fuzzywuzzy\n",
        "import fhm_unittest as unittest\n",
        "import numpy as np"
      ],
      "metadata": {
        "id": "zES7ud9gf695",
        "outputId": "a3f9b982-00be-4303-b247-e48602b5a3ab",
        "colab": {
          "base_uri": "https://localhost:8080/"
        }
      },
      "execution_count": null,
      "outputs": [
        {
          "output_type": "stream",
          "name": "stdout",
          "text": [
            "Collecting fhm-unittest\n",
            "  Downloading fhm_unittest-1.0.1-py3-none-any.whl (2.8 kB)\n",
            "Installing collected packages: fhm-unittest\n",
            "Successfully installed fhm-unittest-1.0.1\n",
            "Collecting fuzzywuzzy\n",
            "  Downloading fuzzywuzzy-0.18.0-py2.py3-none-any.whl (18 kB)\n",
            "Installing collected packages: fuzzywuzzy\n",
            "Successfully installed fuzzywuzzy-0.18.0\n"
          ]
        },
        {
          "output_type": "stream",
          "name": "stderr",
          "text": [
            "/usr/local/lib/python3.10/dist-packages/fuzzywuzzy/fuzz.py:11: UserWarning: Using slow pure-python SequenceMatcher. Install python-Levenshtein to remove this warning\n",
            "  warnings.warn('Using slow pure-python SequenceMatcher. Install python-Levenshtein to remove this warning')\n"
          ]
        }
      ]
    },
    {
      "cell_type": "markdown",
      "source": [
        " ***You must Run this cell for your driver code to execute successfully***"
      ],
      "metadata": {
        "id": "fdEbakalfuRC"
      }
    },
    {
      "cell_type": "code",
      "execution_count": null,
      "metadata": {
        "id": "mxEckgR4fqt8"
      },
      "outputs": [],
      "source": [
        "#Run this cell\n",
        "class Node:\n",
        "  def __init__(self,elem,next = None):\n",
        "    self.elem,self.next = elem,next\n",
        "\n",
        "def createList(arr):\n",
        "  head = Node(arr[0])\n",
        "  tail = head\n",
        "  for i in range(1,len(arr)):\n",
        "    newNode = Node(arr[i])\n",
        "    tail.next = newNode\n",
        "    tail = newNode\n",
        "  return head\n",
        "\n",
        "def printLinkedList(head):\n",
        "  temp = head\n",
        "  while temp != None:\n",
        "    if temp.next != None:\n",
        "      print(temp.elem, end = '-->')\n",
        "    else:\n",
        "      print(temp.elem)\n",
        "    temp = temp.next\n",
        "  print()\n"
      ]
    },
    {
      "cell_type": "markdown",
      "source": [
        "Number Beads"
      ],
      "metadata": {
        "id": "Clj0DClwgJZK"
      }
    },
    {
      "cell_type": "code",
      "source": [
        "# Task 1 Done\n",
        "# logic: no of left rotations to reach original sequence is the ans\n",
        "def rotation_times(head):\n",
        "\n",
        "  counter = 0\n",
        "\n",
        "  while head.elem != 20: # iteration till reaching 20\n",
        "    counter += 1         ## cuz 20 is the first element of the original linked list\n",
        "\n",
        "    n11 = head.next ## left rotation starts\n",
        "    n22 = head\n",
        "    while n22.next != None:\n",
        "      n22 = n22.next\n",
        "\n",
        "    n22.next = head\n",
        "    head.next = None\n",
        "\n",
        "    head = n11 ## left rotation ends\n",
        "\n",
        "  return counter\n",
        "\n",
        "\n",
        "print('==============Test Case 1=============')\n",
        "head = createList(np.array([13,10,6,20,17]))\n",
        "print('Rearranged Necklace: ', end = ' ')\n",
        "printLinkedList(head)\n",
        "returned_value = rotation_times(head)\n",
        "print(f'Rotated: {returned_value} times') #This should print 3\n",
        "unittest.output_test(returned_value, 3)\n",
        "print()\n",
        "\n",
        "print('==============Test Case 2=============')\n",
        "head = createList(np.array([6,20,17,13,10]))\n",
        "print('Rearranged Necklace: ', end = ' ')\n",
        "printLinkedList(head)\n",
        "returned_value = rotation_times(head)\n",
        "print(f'Rotated: {returned_value} times') #This should print 1\n",
        "unittest.output_test(returned_value, 1)\n",
        "print()\n",
        "\n",
        "print('==============Test Case 3=============')\n",
        "head = createList(np.array([20,17,13,10,6]))\n",
        "print('Rearranged Necklace: ', end = ' ')\n",
        "printLinkedList(head)\n",
        "returned_value = rotation_times(head)\n",
        "print(f'Rotated: {returned_value} times') #This should print 0\n",
        "unittest.output_test(returned_value, 0)\n",
        "print()"
      ],
      "metadata": {
        "id": "H4BQrUJn9XLs",
        "outputId": "82146200-c095-4389-f899-315fbf741417",
        "colab": {
          "base_uri": "https://localhost:8080/"
        }
      },
      "execution_count": null,
      "outputs": [
        {
          "output_type": "stream",
          "name": "stdout",
          "text": [
            "==============Test Case 1=============\n",
            "Rearranged Necklace:  13-->10-->6-->20-->17\n",
            "\n",
            "Rotated: 3 times\n",
            "Accepted\n",
            "\n",
            "==============Test Case 2=============\n",
            "Rearranged Necklace:  6-->20-->17-->13-->10\n",
            "\n",
            "Rotated: 1 times\n",
            "Accepted\n",
            "\n",
            "==============Test Case 3=============\n",
            "Rearranged Necklace:  20-->17-->13-->10-->6\n",
            "\n",
            "Rotated: 0 times\n",
            "Accepted\n",
            "\n"
          ]
        }
      ]
    },
    {
      "cell_type": "markdown",
      "source": [
        "Building Blocks"
      ],
      "metadata": {
        "id": "V9rtJF9VPAtd"
      }
    },
    {
      "cell_type": "code",
      "source": [
        "# Task 2 Done\n",
        "def check_similar(building_1, building_2):\n",
        "\n",
        "  temp1 = building_1\n",
        "  counter1 = 0\n",
        "  temp2 = building_2\n",
        "  counter2 = 0\n",
        "\n",
        "  flag = 0\n",
        "\n",
        "  while temp1 != None: # to count the no of obj in 1st ll\n",
        "    counter1 += 1\n",
        "    temp1 = temp1.next\n",
        "\n",
        "  while temp2 != None: # to count the no of obj in 2nd ll\n",
        "    counter2 += 1\n",
        "    temp2 = temp2.next\n",
        "\n",
        "  temp11 = building_1\n",
        "  temp22 = building_2\n",
        "\n",
        "  if counter1 != counter2:\n",
        "    flag = 0\n",
        "  else:\n",
        "    while temp11 != None:\n",
        "      if temp11.elem != temp22.elem:\n",
        "        flag = 0\n",
        "        break\n",
        "      else:\n",
        "        flag = 1\n",
        "\n",
        "      temp11 = temp11.next\n",
        "      temp22 = temp22.next\n",
        "\n",
        "\n",
        "  if flag == 0:\n",
        "    ans = 'Not Similar'\n",
        "  else:\n",
        "    ans = 'Similar'\n",
        "  return ans\n",
        "\n",
        "\n",
        "print('==============Test Case 1=============')\n",
        "building_1 = createList(np.array(['Red', 'Green', 'Yellow', 'Red', 'Blue', 'Green']))\n",
        "building_2 = createList(np.array(['Red', 'Green', 'Yellow', 'Red', 'Blue', 'Green']))\n",
        "print('Building 1: ', end = ' ')\n",
        "printLinkedList(building_1)\n",
        "print('Building 2: ', end = ' ')\n",
        "printLinkedList(building_2)\n",
        "returned_value = check_similar(building_1, building_2)\n",
        "print(returned_value) #This should print 'Similar'\n",
        "unittest.output_test(returned_value, 'Similar')\n",
        "print()\n",
        "\n",
        "print('==============Test Case 2=============')\n",
        "building_1 = createList(np.array(['Red', 'Green', 'Yellow', 'Red', 'Yellow', 'Green']))\n",
        "building_2 = createList(np.array(['Red', 'Green', 'Yellow', 'Red', 'Blue', 'Green']))\n",
        "print('Building 1: ', end = ' ')\n",
        "printLinkedList(building_1)\n",
        "print('Building 2: ', end = ' ')\n",
        "printLinkedList(building_2)\n",
        "returned_value = check_similar(building_1, building_2)\n",
        "print(returned_value) #This should print 'Not Similar'\n",
        "unittest.output_test(returned_value, 'Not Similar')\n",
        "print()\n",
        "\n",
        "print('==============Test Case 3=============')\n",
        "building_1 = createList(np.array(['Red', 'Green', 'Yellow', 'Red', 'Blue', 'Green']))\n",
        "building_2 = createList(np.array(['Red', 'Green', 'Yellow', 'Red', 'Blue', 'Green', 'Blue']))\n",
        "print('Building 1: ', end = ' ')\n",
        "printLinkedList(building_1)\n",
        "print('Building 2: ', end = ' ')\n",
        "printLinkedList(building_2)\n",
        "returned_value = check_similar(building_1, building_2)\n",
        "print(returned_value) #This should print 'Not Similar'\n",
        "unittest.output_test(returned_value, 'Not Similar')\n",
        "print()\n",
        "\n",
        "print('==============Test Case 4=============')\n",
        "building_1 = createList(np.array(['Red', 'Green', 'Yellow', 'Red', 'Blue', 'Green', 'Blue']))\n",
        "building_2 = createList(np.array(['Red', 'Green', 'Yellow', 'Red', 'Blue', 'Green']))\n",
        "print('Building 1: ', end = ' ')\n",
        "printLinkedList(building_1)\n",
        "print('Building 2: ', end = ' ')\n",
        "printLinkedList(building_2)\n",
        "returned_value = check_similar(building_1, building_2)\n",
        "print(returned_value) #This should print 'Not Similar'\n",
        "unittest.output_test(returned_value, 'Not Similar')\n",
        "print()"
      ],
      "metadata": {
        "id": "yFI3FnXaakzL",
        "colab": {
          "base_uri": "https://localhost:8080/"
        },
        "outputId": "749319c3-4293-44ad-83a8-9142164ec068"
      },
      "execution_count": null,
      "outputs": [
        {
          "output_type": "stream",
          "name": "stdout",
          "text": [
            "==============Test Case 1=============\n",
            "Building 1:  Red-->Green-->Yellow-->Red-->Blue-->Green\n",
            "\n",
            "Building 2:  Red-->Green-->Yellow-->Red-->Blue-->Green\n",
            "\n",
            "Similar\n",
            "Accepted\n",
            "\n",
            "==============Test Case 2=============\n",
            "Building 1:  Red-->Green-->Yellow-->Red-->Yellow-->Green\n",
            "\n",
            "Building 2:  Red-->Green-->Yellow-->Red-->Blue-->Green\n",
            "\n",
            "Not Similar\n",
            "Accepted\n",
            "\n",
            "==============Test Case 3=============\n",
            "Building 1:  Red-->Green-->Yellow-->Red-->Blue-->Green\n",
            "\n",
            "Building 2:  Red-->Green-->Yellow-->Red-->Blue-->Green-->Blue\n",
            "\n",
            "Not Similar\n",
            "Accepted\n",
            "\n",
            "==============Test Case 4=============\n",
            "Building 1:  Red-->Green-->Yellow-->Red-->Blue-->Green-->Blue\n",
            "\n",
            "Building 2:  Red-->Green-->Yellow-->Red-->Blue-->Green\n",
            "\n",
            "Not Similar\n",
            "Accepted\n",
            "\n"
          ]
        }
      ]
    },
    {
      "cell_type": "markdown",
      "source": [
        "Remove Compartment"
      ],
      "metadata": {
        "id": "gG7Hh24oavZ5"
      }
    },
    {
      "cell_type": "code",
      "source": [
        "# Task 3 Done\n",
        "# logic: if n is not present in the ll then we will keep the ll unchanged\n",
        "  # if n is present in the ll, then we will remove the last n from the ll (by using n1->n2 technique)\n",
        "    # if n is present in the 1st position ll, then rmv it by separate condition as n1 doesn't exist\n",
        "def remove_compartment(head,n):\n",
        "\n",
        "  temp = head\n",
        "  flag = 0\n",
        "  while temp!=None: # to see whether the element 'n' is present\n",
        "    if temp.elem == n:\n",
        "      flag = 1\n",
        "      break # if n is present in the ll, then break the loop\n",
        "    temp = temp.next\n",
        "\n",
        "  if flag != 0:\n",
        "\n",
        "    counter = 0\n",
        "    temp2 = head\n",
        "    while temp2 != None: # to calculate the number of n\n",
        "      if temp2.elem == n:\n",
        "        counter += 1\n",
        "      temp2 = temp2.next\n",
        "\n",
        "    checker = 0\n",
        "    temp3 = head\n",
        "    while temp3 != None:\n",
        "      if temp3.elem == n:\n",
        "        checker += 1\n",
        "        if checker == counter:\n",
        "          if head.elem == n: ### if 1st obj.elem is n, then manually rmv it\n",
        "            head = head.next\n",
        "          else: ### if non 1st obj.elem is n, then rmv it by using n1->n2 technique\n",
        "            n1 = temp3\n",
        "            n11 = head\n",
        "            while n11.next != n1: # n11->n1->n22\n",
        "              n11 = n11.next # obj before the last n\n",
        "\n",
        "            n2 = n11.next.next\n",
        "            n11.next = n2\n",
        "\n",
        "      temp3 = temp3.next\n",
        "  return head\n",
        "\n",
        "\n",
        "\n",
        "print('==============Test Case 1=============')\n",
        "head = createList(np.array([14,10,15,10,41,10,72]))\n",
        "number = 10\n",
        "print('Original Compartment Sequence: ', end = ' ')\n",
        "printLinkedList(head)\n",
        "head = remove_compartment(head,number)\n",
        "print('Changed Compartment Sequence: ', end = ' ')\n",
        "printLinkedList(head) #This should print 14-->10-->15-->10-->41-->72\n",
        "print()\n",
        "\n",
        "print('==============Test Case 2=============')\n",
        "head = createList(np.array([10,15,33,41,14,72]))\n",
        "number = 10\n",
        "print('Original Compartment Sequence: ', end = ' ')\n",
        "printLinkedList(head)\n",
        "head = remove_compartment(head,number)\n",
        "print('Changed Compartment Sequence: ', end = ' ')\n",
        "printLinkedList(head) #This should print 15-->33-->41-->14-->72\n",
        "print()\n",
        "\n",
        "print('==============Test Case 3=============')\n",
        "head = createList(np.array([10,15,33,41,14,72]))\n",
        "number = 56\n",
        "print('Original Compartment Sequence: ', end = ' ')\n",
        "printLinkedList(head)\n",
        "head = remove_compartment(head,number)\n",
        "print('Changed Compartment Sequence: ', end = ' ')\n",
        "printLinkedList(head) #This should print 10-->15-->33-->41-->14-->72\n",
        "print()"
      ],
      "metadata": {
        "id": "xttcJVbJ9id1",
        "colab": {
          "base_uri": "https://localhost:8080/"
        },
        "outputId": "4ada1e11-fb1e-4299-89e9-453d0593178e"
      },
      "execution_count": null,
      "outputs": [
        {
          "output_type": "stream",
          "name": "stdout",
          "text": [
            "==============Test Case 1=============\n",
            "Original Compartment Sequence:  14-->10-->15-->10-->41-->10-->72\n",
            "\n",
            "Changed Compartment Sequence:  14-->10-->15-->10-->41-->72\n",
            "\n",
            "\n",
            "==============Test Case 2=============\n",
            "Original Compartment Sequence:  10-->15-->33-->41-->14-->72\n",
            "\n",
            "Changed Compartment Sequence:  15-->33-->41-->14-->72\n",
            "\n",
            "\n",
            "==============Test Case 3=============\n",
            "Original Compartment Sequence:  10-->15-->33-->41-->14-->72\n",
            "\n",
            "Changed Compartment Sequence:  10-->15-->33-->41-->14-->72\n",
            "\n",
            "\n"
          ]
        }
      ]
    },
    {
      "cell_type": "markdown",
      "source": [
        "Capture the Flag"
      ],
      "metadata": {
        "id": "M1JR_lLca9Gk"
      }
    },
    {
      "cell_type": "code",
      "source": [
        "# Task 4 Done\n",
        "# logic: counter starts from 1\n",
        "  # for every element, we'll update the element diving by it's position\n",
        "def capture_the_flag(head):\n",
        "  temp = head\n",
        "\n",
        "  postion = 1\n",
        "  flag = 1\n",
        "\n",
        "  while temp != None: # iterating over the ll\n",
        "    if temp.elem % postion == 0:\n",
        "      temp.elem = int(temp.elem / postion)\n",
        "      postion += 1\n",
        "    else: # if any element isn't divisible by it's positon, then loop ends\n",
        "      flag = 0\n",
        "      break\n",
        "    temp = temp.next\n",
        "\n",
        "  if flag == 0:\n",
        "    ans = 'Linkwise'\n",
        "  else:\n",
        "    ans = head\n",
        "  return ans\n",
        "\n",
        "print('==============Test Case 1=============')\n",
        "head = createList(np.array([11,8,21,20,5,42]))\n",
        "print('Original Sequence: ', end = ' ')\n",
        "printLinkedList(head)\n",
        "new_head = capture_the_flag(head)\n",
        "print('The flag is: ', end= ' ')\n",
        "if type(new_head) == str:\n",
        "  print(new_head)\n",
        "else:\n",
        "  printLinkedList(new_head) #This should print 11→4→7→5→1→7\n",
        "print()\n",
        "\n",
        "print('==============Test Case 2=============')\n",
        "head = createList(np.array([11,8,28,20,5,42]))\n",
        "print('Original Sequence: ', end = ' ')\n",
        "printLinkedList(head)\n",
        "new_head = capture_the_flag(head)\n",
        "print('The flag is: ', end= ' ')\n",
        "if type(new_head) == str:\n",
        "  print(new_head) #This should print Linkwise\n",
        "else:\n",
        "  printLinkedList(new_head)\n",
        "print()"
      ],
      "metadata": {
        "id": "F7neaJpOa9oR",
        "colab": {
          "base_uri": "https://localhost:8080/"
        },
        "outputId": "7981ff5b-3da7-4725-fa66-079763625c02"
      },
      "execution_count": null,
      "outputs": [
        {
          "output_type": "stream",
          "name": "stdout",
          "text": [
            "==============Test Case 1=============\n",
            "Original Sequence:  11-->8-->21-->20-->5-->42\n",
            "\n",
            "The flag is:  11-->4-->7-->5-->1-->7\n",
            "\n",
            "\n",
            "==============Test Case 2=============\n",
            "Original Sequence:  11-->8-->28-->20-->5-->42\n",
            "\n",
            "The flag is:  Linkwise\n",
            "\n"
          ]
        }
      ]
    },
    {
      "cell_type": "markdown",
      "source": [
        "Shuffle on song"
      ],
      "metadata": {
        "id": "hiH6KfWC8p9E"
      }
    },
    {
      "cell_type": "code",
      "source": [
        "# Task 5 Type 1 Done\n",
        "  ## by creating two new ll and adding both together\n",
        "def shuffle_on_song(head):\n",
        "\n",
        "  temp = head\n",
        "\n",
        "  even_head = Node(None)\n",
        "  even_tail = even_head\n",
        "\n",
        "  odd_head = Node(None)\n",
        "  odd_tail = odd_head\n",
        "\n",
        "\n",
        "\n",
        "  while temp != None:\n",
        "      obj = Node(temp.elem)\n",
        "\n",
        "      if ord(temp.elem) % 2 == 0:\n",
        "        even_tail.next = obj\n",
        "        even_tail = even_tail.next\n",
        "\n",
        "      else:\n",
        "        odd_tail.next = obj\n",
        "        odd_tail = odd_tail.next\n",
        "\n",
        "      temp = temp.next\n",
        "\n",
        "\n",
        "  odd_tail.next = None\n",
        "  even_tail.next = odd_head.next\n",
        "  head = even_head.next\n",
        "\n",
        "\n",
        "  return head\n",
        "\n",
        "\n",
        "print('==============Test Case 1=============')\n",
        "head = createList(np.array(['S','E','N','P','A','I']))\n",
        "print('Original Play List: ', end = ' ')\n",
        "printLinkedList(head)\n",
        "newhead =  shuffle_on_song(head)\n",
        "print('New Play List: ', end = ' ')\n",
        "printLinkedList(newhead) #This should print N-->P-->S-->E-->A-->I\n",
        "print()\n",
        "\n",
        "print('==============Test Case 2=============')\n",
        "head = createList(np.array(['N','I','S','H','I','N','O','Y','A']))\n",
        "print('Original Play List: ', end = ' ')\n",
        "printLinkedList(head)\n",
        "newhead =  shuffle_on_song(head)\n",
        "print('New Play List: ', end = ' ')\n",
        "printLinkedList(newhead) #This should print N-->H-->N-->I-->S-->I-->O-->Y-->A\n",
        "print()\n"
      ],
      "metadata": {
        "id": "-AQh4Ka1PGQ4",
        "colab": {
          "base_uri": "https://localhost:8080/"
        },
        "outputId": "5b749649-29c3-45a7-de08-f35ba378b0cc"
      },
      "execution_count": null,
      "outputs": [
        {
          "output_type": "stream",
          "name": "stdout",
          "text": [
            "==============Test Case 1=============\n",
            "Original Play List:  S-->E-->N-->P-->A-->I\n",
            "\n",
            "New Play List:  N-->P-->S-->E-->A-->I\n",
            "\n",
            "\n",
            "==============Test Case 2=============\n",
            "Original Play List:  N-->I-->S-->H-->I-->N-->O-->Y-->A\n",
            "\n",
            "New Play List:  N-->H-->N-->I-->S-->I-->O-->Y-->A\n",
            "\n",
            "\n"
          ]
        }
      ]
    },
    {
      "cell_type": "code",
      "source": [
        "# Task5 (Type 2 Done)\n",
        "def shuffle_on_song(head):\n",
        "\n",
        "  temp = head\n",
        "\n",
        "  temp1 = head # finding first even head\n",
        "  while temp1 != None:\n",
        "    if ord(temp1.elem) % 2 == 0:\n",
        "      even_head = Node(temp1.elem)\n",
        "      even_tail = even_head\n",
        "      break\n",
        "    temp1 = temp1.next\n",
        "\n",
        "  temp2 = head # finding first odd head\n",
        "  while temp2 != None:\n",
        "    if ord(temp2.elem) % 2 != 0:\n",
        "      odd_head = Node(temp2.elem)\n",
        "      odd_tail = odd_head\n",
        "      break\n",
        "    temp2 = temp2.next\n",
        "\n",
        "  counter_even = False\n",
        "  counter_odd = False\n",
        "\n",
        "  while temp != None:\n",
        "      obj = Node(temp.elem)\n",
        "      if ord(temp.elem) % 2 == 0: # if even\n",
        "        if counter_even == True:  # if first element of even_head repeats, link will continue\n",
        "          even_tail.next = obj\n",
        "          even_tail = obj\n",
        "        else:  # if first element of even_head repeats, no link will be created\n",
        "          if temp.elem == even_head.elem:\n",
        "            counter_even = True\n",
        "\n",
        "\n",
        "\n",
        "      else:                       # if odd\n",
        "        if counter_odd == True: # if first element of odd_head repeats, link will continue\n",
        "          odd_tail.next = obj\n",
        "          odd_tail = obj\n",
        "        else: # if first element of odd_head repeats, link won't be created\n",
        "          if odd_head.elem == temp.elem:\n",
        "            counter_odd = True\n",
        "\n",
        "      temp = temp.next\n",
        "\n",
        "\n",
        "  odd_tail.next = None\n",
        "  even_tail.next = odd_head\n",
        "  head = even_head\n",
        "\n",
        "\n",
        "  return head\n",
        "\n",
        "\n",
        "print('==============Test Case 1=============')\n",
        "head = createList(np.array(['S','E','N','P','A','I']))\n",
        "print('Original Play List: ', end = ' ')\n",
        "printLinkedList(head)\n",
        "newhead =  shuffle_on_song(head)\n",
        "print('New Play List: ', end = ' ')\n",
        "printLinkedList(newhead) #This should print N-->P-->S-->E-->A-->I\n",
        "print()\n",
        "\n",
        "print('==============Test Case 2=============')\n",
        "head = createList(np.array(['N','I','S','H','I','N','O','Y','A']))\n",
        "print('Original Play List: ', end = ' ')\n",
        "printLinkedList(head)\n",
        "newhead =  shuffle_on_song(head)\n",
        "print('New Play List: ', end = ' ')\n",
        "printLinkedList(newhead) #This should print N-->H-->N-->I-->S-->I-->O-->Y-->A\n",
        "print()\n"
      ],
      "metadata": {
        "colab": {
          "base_uri": "https://localhost:8080/"
        },
        "id": "U3SBzTTA5ef_",
        "outputId": "e1675a74-4055-4ab5-8a2d-31d8eeaf666e"
      },
      "execution_count": null,
      "outputs": [
        {
          "output_type": "stream",
          "name": "stdout",
          "text": [
            "==============Test Case 1=============\n",
            "Original Play List:  S-->E-->N-->P-->A-->I\n",
            "\n",
            "New Play List:  N-->P-->S-->E-->A-->I\n",
            "\n",
            "\n",
            "==============Test Case 2=============\n",
            "Original Play List:  N-->I-->S-->H-->I-->N-->O-->Y-->A\n",
            "\n",
            "New Play List:  N-->H-->N-->I-->S-->I-->O-->Y-->A\n",
            "\n",
            "\n"
          ]
        }
      ]
    },
    {
      "cell_type": "markdown",
      "source": [
        "BONUS"
      ],
      "metadata": {
        "id": "wca6dmhzbU_k"
      }
    },
    {
      "cell_type": "markdown",
      "source": [
        "Assemble Conga Line"
      ],
      "metadata": {
        "id": "hoDltlzi-GJD"
      }
    },
    {
      "cell_type": "code",
      "source": [
        "# Bonus Task Done (3 edge cases, two flags (flag + checker))\n",
        "def assemble_conga_line(conga_line, candidate_line, idx):\n",
        "\n",
        "    temp_dancer = conga_line\n",
        "    temp_queue = candidate_line\n",
        "\n",
        "    def elem_from_idx(index):\n",
        "\n",
        "      counter = 0\n",
        "      temp_dancer = conga_line\n",
        "      while temp_dancer != None:\n",
        "        if counter == index-1: # elem before the idx\n",
        "          return temp_dancer.elem\n",
        "        counter += 1\n",
        "        temp_dancer = temp_dancer.next\n",
        "\n",
        "    flag = True\n",
        "    if idx != 0:  # edge case - 1: if insertion in any index other than first\n",
        "      first_range = elem_from_idx(idx)\n",
        "      second_range = elem_from_idx(idx+1)\n",
        "\n",
        "      diff1 = first_range - candidate_line.elem\n",
        "      diff2 = second_range - candidate_line.elem\n",
        "\n",
        "      diff_main = first_range - temp_queue.elem\n",
        "\n",
        "      if diff1 <= 0 and diff2 <= 0:\n",
        "        if diff1<diff2:\n",
        "          diff_main = diff1\n",
        "        else:\n",
        "          diff_main = diff2\n",
        "        selected_elem = candidate_line.elem\n",
        "\n",
        "      checker = 0 # to check if the queue element fall between the two range\n",
        "      while temp_queue != None:\n",
        "        diff1 =  first_range - temp_queue.elem\n",
        "        diff2 = second_range - temp_queue.elem\n",
        "        if first_range<=temp_queue.elem<=second_range: # edge case 3: if insertion in non first index but the queue elements don't fall in between the two range\n",
        "\n",
        "          checker += 1\n",
        "          if diff1 < diff_main and diff1 > 0:\n",
        "            diff_main = diff1\n",
        "          elif diff2<=diff_main and diff2 < 0:\n",
        "            diff_main = diff2\n",
        "          selected_elem = temp_queue.elem\n",
        "          obj_queue = temp_queue\n",
        "        else:\n",
        "          flag = False\n",
        "          ans = conga_line\n",
        "        temp_queue = temp_queue.next\n",
        "\n",
        "      if checker > 0: # if queue element falls in between teh two range\n",
        "        temp_dancer_2 = conga_line\n",
        "        while temp_dancer_2.elem != second_range:\n",
        "          n1 = temp_dancer_2                           # n1 = 34\n",
        "          temp_dancer_2 = temp_dancer_2.next\n",
        "\n",
        "        n2 = n1.next # n2 = 40\n",
        "\n",
        "        n1.next = obj_queue\n",
        "        obj_queue.next = n2\n",
        "        final_head = conga_line\n",
        "      else: # if queue element doesn't fall in between the two range then the given ll is the ans\n",
        "        ans = conga_line\n",
        "\n",
        "    else: # edgce case 2: if insertion is in first index\n",
        "      temp_dancer_3 = conga_line\n",
        "      temp_queue = candidate_line\n",
        "      main_diff = temp_dancer_3.elem - temp_queue.elem\n",
        "      selected_elem = temp_queue.elem\n",
        "\n",
        "      while temp_queue != None:\n",
        "        diff = temp_dancer_3.elem - temp_queue.elem\n",
        "        if diff < main_diff and diff > 0:\n",
        "          main_diff = diff\n",
        "          selected_elem = temp_queue.elem\n",
        "          obj_queue = temp_queue\n",
        "        temp_queue = temp_queue.next\n",
        "\n",
        "      obj_queue.next = temp_dancer_3\n",
        "      final_head = obj_queue\n",
        "\n",
        "    if flag == True:\n",
        "      ans = final_head\n",
        "    else:\n",
        "      ans = conga_line\n",
        "\n",
        "    return ans\n",
        "\n",
        "\n",
        "print('==============Test Case 1=============')\n",
        "conga_line = createList(np.array([10,15,34,41,56,72]))\n",
        "print('Original Conga Line: ', end = ' ')\n",
        "printLinkedList(conga_line)\n",
        "candidate_line = createList(np.array([16,2,36,52,40,77]))\n",
        "print('Original candidate Line: ', end = ' ')\n",
        "printLinkedList(candidate_line)\n",
        "insertion_idx = 3\n",
        "returned_value = assemble_conga_line(conga_line, candidate_line, insertion_idx)\n",
        "print('Changed Conga Line: ', end = ' ') #This should print 10-->15-->34-->40-->41-->56-->72\n",
        "printLinkedList(returned_value)\n",
        "\n",
        "print('==============Test Case 2=============')\n",
        "conga_line = createList(np.array([10,15,34,41,56,72]))\n",
        "print('Original Conga Line: ', end = ' ')\n",
        "printLinkedList(conga_line)\n",
        "candidate_line = createList(np.array([6,16,8,36,7,40,77]))\n",
        "print('Original candidate Line: ', end = ' ')\n",
        "printLinkedList(candidate_line)\n",
        "insertion_idx = 0\n",
        "returned_value = assemble_conga_line(conga_line, candidate_line, insertion_idx)\n",
        "print('Changed Conga Line: ', end = ' ') #This should print 8-->10-->15-->34-->41-->56-->72\n",
        "printLinkedList(returned_value)\n",
        "\n",
        "print('==============Test Case 3=============')\n",
        "conga_line = createList(np.array([10,15,34,41,56,72]))\n",
        "print('Original Conga Line: ', end = ' ')\n",
        "printLinkedList(conga_line)\n",
        "candidate_line = createList(np.array([6,12,8,36,7,40,77]))\n",
        "print('Original candidate Line: ', end = ' ')\n",
        "printLinkedList(candidate_line)\n",
        "insertion_idx = 2\n",
        "returned_value = assemble_conga_line(conga_line, candidate_line, insertion_idx)\n",
        "print('Changed Conga Line: ', end = ' ') #This should print 10-->15-->34-->41-->56-->72\n",
        "printLinkedList(returned_value)"
      ],
      "metadata": {
        "id": "FbGrR6QI9Hjv",
        "colab": {
          "base_uri": "https://localhost:8080/"
        },
        "outputId": "b519fb67-8fcb-4fcb-8ce2-f35e4ad51e93"
      },
      "execution_count": null,
      "outputs": [
        {
          "output_type": "stream",
          "name": "stdout",
          "text": [
            "==============Test Case 1=============\n",
            "Original Conga Line:  10-->15-->34-->41-->56-->72\n",
            "\n",
            "Original candidate Line:  16-->2-->36-->52-->40-->77\n",
            "\n",
            "Changed Conga Line:  10-->15-->34-->40-->41-->56-->72\n",
            "\n",
            "==============Test Case 2=============\n",
            "Original Conga Line:  10-->15-->34-->41-->56-->72\n",
            "\n",
            "Original candidate Line:  6-->16-->8-->36-->7-->40-->77\n",
            "\n",
            "Changed Conga Line:  8-->10-->15-->34-->41-->56-->72\n",
            "\n",
            "==============Test Case 3=============\n",
            "Original Conga Line:  10-->15-->34-->41-->56-->72\n",
            "\n",
            "Original candidate Line:  6-->12-->8-->36-->7-->40-->77\n",
            "\n",
            "Changed Conga Line:  10-->15-->34-->41-->56-->72\n",
            "\n"
          ]
        }
      ]
    },
    {
      "cell_type": "code",
      "source": [
        "def assemble_conga_line(conga_line, candidate_line, idx):\n",
        "\n",
        "    temp_dancer = conga_line\n",
        "    temp_queue = candidate_line\n",
        "\n",
        "    def elem_from_idx(index):\n",
        "\n",
        "      counter = 0\n",
        "      temp_dancer = conga_line\n",
        "      while temp_dancer != None:\n",
        "        if counter == index-1: # elem before the idx\n",
        "          return temp_dancer.elem\n",
        "        counter += 1\n",
        "        temp_dancer = temp_dancer.next\n",
        "\n",
        "\n",
        "    range1 = elem_from_idx(idx)\n",
        "    range2 = elem_from_idx(idx+1)\n",
        "\n",
        "    diff1 = candidate_line.elem - range1\n",
        "    diff2 = range2 - candidate_line\n",
        "\n",
        "    maindiff = 100000000000000\n",
        "\n",
        "    while temp_queue != None:\n",
        "      diff1 = temp_queue.elem - range1\n",
        "      diff2 = range2 - temp_queue.elem\n",
        "      if range1 < temp_queue.elem < range2:\n",
        "        if diff1 < maindiff:\n",
        "          maindiff = diff1\n",
        "          obj = temp_queue\n",
        "        else:\n",
        "          maindiff = diff2\n",
        "          obj = temp_queue\n",
        "\n",
        "      temp_queue = temp_queue.next\n",
        "\n",
        "\n",
        "    def node_at(head, index):\n",
        "\n",
        "      temp = head\n",
        "      counter = 0\n",
        "      while temp!="
      ],
      "metadata": {
        "id": "_nFQqdYloY2v"
      },
      "execution_count": null,
      "outputs": []
    }
  ]
}